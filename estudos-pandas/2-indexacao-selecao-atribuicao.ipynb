{
 "cells": [
  {
   "cell_type": "code",
   "execution_count": 1,
   "id": "9dccbd0f",
   "metadata": {},
   "outputs": [],
   "source": [
    "import pandas as pd"
   ]
  },
  {
   "cell_type": "markdown",
   "id": "e7d14f93",
   "metadata": {},
   "source": [
    "#### Seleção de atributos dos objetos DataFrame e Series"
   ]
  },
  {
   "cell_type": "code",
   "execution_count": 2,
   "id": "49797e84",
   "metadata": {},
   "outputs": [],
   "source": [
    "df = pd.read_csv(\"wine_data.csv\", index_col=0)"
   ]
  },
  {
   "cell_type": "code",
   "execution_count": null,
   "id": "bf24d511",
   "metadata": {},
   "outputs": [
    {
     "data": {
      "text/plain": [
       "pandas.core.series.Series"
      ]
     },
     "execution_count": 7,
     "metadata": {},
     "output_type": "execute_result"
    }
   ],
   "source": [
    "# Um DataFrame não deixa de ser um objeto Python, onde as colunas são atributos desse objeto\n",
    "# df.country\n",
    "\n",
    "# Series\n",
    "# type(df.country)\n",
    "\n",
    "# Outra forma de acessar\n",
    "# Essa forma é melhor para caso a coluna contenha um nome composto\n",
    "# df[\"country\"]\n",
    "\n",
    "# Series\n",
    "type(df[\"country\"])"
   ]
  },
  {
   "cell_type": "code",
   "execution_count": 8,
   "id": "6dab74ec",
   "metadata": {},
   "outputs": [
    {
     "data": {
      "text/plain": [
       "'Italy'"
      ]
     },
     "execution_count": 8,
     "metadata": {},
     "output_type": "execute_result"
    }
   ],
   "source": [
    "# Acessando o primeiro elemento da Serie\n",
    "df['country'][0]"
   ]
  },
  {
   "cell_type": "markdown",
   "id": "fa97263e",
   "metadata": {},
   "source": [
    "#### Seleção por índice"
   ]
  },
  {
   "cell_type": "code",
   "execution_count": null,
   "id": "b6608191",
   "metadata": {},
   "outputs": [],
   "source": [
    "# Filtro baseado em índice (inteiros): 'iloc'\n",
    "# Primeiro linha, depois coluna (l X c)\n",
    "# O iloc trata o DataFrame como uma matriz\n",
    "\n",
    "# primeira linha do DataFrame (Series)\n",
    "# df.iloc[0]\n",
    "\n",
    "# primeira coluna do DataFrame\n",
    "# df.iloc[:, 0]\n",
    "\n",
    "# 3 primeiras linhas da primeira coluna\n",
    "# df.iloc[:3, 0]\n",
    "\n",
    "# segunda e terceira linha da primeira coluna\n",
    "# linhas 1 e 2 (3 não incluso)\n",
    "# df.iloc[1:3, 0]\n",
    "\n",
    "# passando uma lista de linhas\n",
    "# df.iloc[[0, 1, 2], 0]\n",
    "\n",
    "# as últimas 5 linhas do DataFrame\n",
    "df.iloc[-5:]"
   ]
  },
  {
   "cell_type": "markdown",
   "id": "995a3a49",
   "metadata": {},
   "source": [
    "#### Seleção por \"label\""
   ]
  },
  {
   "cell_type": "code",
   "execution_count": null,
   "id": "cc8fb8b6",
   "metadata": {},
   "outputs": [],
   "source": [
    "# O que importa aqui é o valor do índice, não a posição do elemento\n",
    "\n",
    "# primeiro elemento da coluna country\n",
    "# o 0 aqui representa o índice, não a posição\n",
    "# df.loc[0, \"country\"] \n",
    "\n",
    "# IMPORTANTE\n",
    "# índice no iloc: de 0 a 10 (10 é exluído)\n",
    "# índice no loc: de 0 a 10 (10 é incluído)\n",
    "\n",
    "# seleção de colunas\n",
    "df.loc[:, ['taster_name', 'taster_twitter_handle', 'points']]"
   ]
  },
  {
   "cell_type": "markdown",
   "id": "a93349d0",
   "metadata": {},
   "source": [
    "#### Manipulando índices"
   ]
  },
  {
   "cell_type": "code",
   "execution_count": null,
   "id": "066d7254",
   "metadata": {},
   "outputs": [],
   "source": [
    "# coluna title como índice\n",
    "df.set_index(\"title\")"
   ]
  },
  {
   "cell_type": "markdown",
   "id": "6230b689",
   "metadata": {},
   "source": [
    "#### Seleção condicional"
   ]
  },
  {
   "cell_type": "code",
   "execution_count": null,
   "id": "049d20c5",
   "metadata": {},
   "outputs": [],
   "source": [
    "# retorna uma Series com valores booleanos\n",
    "df.country == 'Italy'"
   ]
  },
  {
   "cell_type": "code",
   "execution_count": null,
   "id": "5095bc24",
   "metadata": {},
   "outputs": [],
   "source": [
    "# Lembrando: linha x coluna\n",
    "df.loc[df.country == 'Italy']"
   ]
  },
  {
   "cell_type": "code",
   "execution_count": null,
   "id": "b1e07460",
   "metadata": {},
   "outputs": [],
   "source": [
    "# O '&' funciona como um 'and' aqui\n",
    "df.loc[(df.country == 'Italy') & (df.points >= 90)]"
   ]
  },
  {
   "cell_type": "code",
   "execution_count": null,
   "id": "7957d1ea",
   "metadata": {},
   "outputs": [],
   "source": [
    "# O '|' funciona como um 'or' aqui\n",
    "df.loc[(df.country == 'Italy') | (df.points >= 90)]"
   ]
  },
  {
   "cell_type": "code",
   "execution_count": null,
   "id": "07d4c17d",
   "metadata": {},
   "outputs": [],
   "source": [
    "# 'isin' me dá todos os registros que forem iguais a algum dos elementos da lista passada\n",
    "df.loc[df.country.isin([\"Italy\", \"France\"])]"
   ]
  },
  {
   "cell_type": "code",
   "execution_count": null,
   "id": "0fd57ca1",
   "metadata": {},
   "outputs": [],
   "source": [
    "# 'notnull' e 'isnull'\n",
    "# Null no pandas é NaN (not a number)\n",
    "# df.loc[df.price.notnull()]\n",
    "df.loc[df.price.isnull()]"
   ]
  },
  {
   "cell_type": "markdown",
   "id": "157909b2",
   "metadata": {},
   "source": [
    "#### Atribuição"
   ]
  },
  {
   "cell_type": "code",
   "execution_count": null,
   "id": "ee9762ae",
   "metadata": {},
   "outputs": [],
   "source": [
    "# valores literais\n",
    "# isso altera o dataframe\n",
    "df['critic'] = 'everyone'\n",
    "df['critic']"
   ]
  },
  {
   "cell_type": "code",
   "execution_count": null,
   "id": "311bb1d6",
   "metadata": {},
   "outputs": [],
   "source": [
    "# Estrutura do DataFrame\n",
    "df.info()"
   ]
  },
  {
   "cell_type": "code",
   "execution_count": null,
   "id": "fa98cbc9",
   "metadata": {},
   "outputs": [],
   "source": [
    "# atribuindo um range à coluna\n",
    "# isso altera o dataframe, adicionando nova coluna\n",
    "# só funciona pq o range retornado é igual ao nº de linhas do dataframe\n",
    "df['index_backwards'] = range(len(df), 0, -1)\n",
    "df['index_backwards']"
   ]
  }
 ],
 "metadata": {
  "kernelspec": {
   "display_name": "Python 3",
   "language": "python",
   "name": "python3"
  },
  "language_info": {
   "codemirror_mode": {
    "name": "ipython",
    "version": 3
   },
   "file_extension": ".py",
   "mimetype": "text/x-python",
   "name": "python",
   "nbconvert_exporter": "python",
   "pygments_lexer": "ipython3",
   "version": "3.10.12"
  }
 },
 "nbformat": 4,
 "nbformat_minor": 5
}
