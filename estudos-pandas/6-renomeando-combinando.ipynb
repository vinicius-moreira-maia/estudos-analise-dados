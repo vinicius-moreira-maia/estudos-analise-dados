{
 "cells": [
  {
   "cell_type": "code",
   "execution_count": null,
   "id": "e90d387f",
   "metadata": {},
   "outputs": [],
   "source": [
    "import pandas as pd\n",
    "\n",
    "df = pd.read_csv(\"wine_data.csv\", index_col=0)\n",
    "df.head()"
   ]
  },
  {
   "cell_type": "markdown",
   "id": "6e56bcdb",
   "metadata": {},
   "source": [
    "#### Renomeação"
   ]
  },
  {
   "cell_type": "code",
   "execution_count": null,
   "id": "06be574d",
   "metadata": {},
   "outputs": [],
   "source": [
    "# rename permite renomear colunas e índices\n",
    "df.rename(columns={'points': 'score'})"
   ]
  },
  {
   "cell_type": "code",
   "execution_count": null,
   "id": "2d9f528c",
   "metadata": {},
   "outputs": [],
   "source": [
    "# renomeando os dois primeiros índices\n",
    "# renomear índices é algo não muito comum\n",
    "# set_index é mais conveniente ...\n",
    "df.rename(index={0: \"primeiro\", 1:\"segundo\"})"
   ]
  },
  {
   "cell_type": "code",
   "execution_count": null,
   "id": "ebfbabd6",
   "metadata": {},
   "outputs": [],
   "source": [
    "# renomeando os eixos (linhas e colunas)\n",
    "df.rename_axis(\"wines\", axis=\"rows\").rename_axis(\"fields\", axis=\"columns\")"
   ]
  },
  {
   "cell_type": "markdown",
   "id": "d13ca16a",
   "metadata": {},
   "source": [
    "#### Combinando\n",
    "\n",
    "Concat, Join e Merge (em ordem de complexidade)\n",
    "\n",
    "A maior parte do que Merge faz, Join também faz ..."
   ]
  },
  {
   "cell_type": "code",
   "execution_count": null,
   "id": "2fc3156b",
   "metadata": {},
   "outputs": [],
   "source": [
    "# concat junta/cola os dataframes ao longo de um dos eixos (linhas ou colunas), usado para dataframes que possuem mesmo schema\n",
    "ca_videos = pd.read_csv(\"CAvideos.csv\")\n",
    "gb_videos = pd.read_csv(\"GBvideos.csv\")\n",
    "\n",
    "pd.concat([ca_videos, gb_videos])"
   ]
  },
  {
   "cell_type": "code",
   "execution_count": null,
   "id": "da0eed63",
   "metadata": {},
   "outputs": [],
   "source": [
    "# para join, basta ter um índice em comum\n",
    "\n",
    "# criando novos dataframes com índices múltiplos\n",
    "left = ca_videos.set_index([\"title\", \"trending_date\"])\n",
    "right = gb_videos.set_index([\"title\", \"trending_date\"])\n",
    "\n",
    "# fazendo join com base na igualdade dos índices\n",
    "# sufixos são só para diferenciar de qual dataframe veio a coluna, pois as colunas possuem nomes iguais\n",
    "left.join(right, lsuffix=\"_CAN\", rsuffix=\"_UK\")"
   ]
  }
 ],
 "metadata": {
  "kernelspec": {
   "display_name": "Python 3",
   "language": "python",
   "name": "python3"
  },
  "language_info": {
   "codemirror_mode": {
    "name": "ipython",
    "version": 3
   },
   "file_extension": ".py",
   "mimetype": "text/x-python",
   "name": "python",
   "nbconvert_exporter": "python",
   "pygments_lexer": "ipython3",
   "version": "3.10.12"
  }
 },
 "nbformat": 4,
 "nbformat_minor": 5
}
