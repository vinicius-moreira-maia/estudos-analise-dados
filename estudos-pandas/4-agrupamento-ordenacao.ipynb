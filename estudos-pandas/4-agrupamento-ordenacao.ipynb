{
 "cells": [
  {
   "cell_type": "code",
   "execution_count": 1,
   "id": "446843a2",
   "metadata": {},
   "outputs": [],
   "source": [
    "import pandas as pd"
   ]
  },
  {
   "cell_type": "code",
   "execution_count": 2,
   "id": "f8180b1e",
   "metadata": {},
   "outputs": [],
   "source": [
    "df = pd.read_csv(\"wine_data.csv\", index_col=0)"
   ]
  },
  {
   "cell_type": "markdown",
   "id": "4d4acfcb",
   "metadata": {},
   "source": [
    "#### Group By"
   ]
  },
  {
   "cell_type": "code",
   "execution_count": null,
   "id": "d68acd37",
   "metadata": {},
   "outputs": [],
   "source": [
    "# replicando value_counts()\n",
    "# contando a frequência de cada pontuação\n",
    "df.groupby(\"points\").points.count()"
   ]
  },
  {
   "cell_type": "code",
   "execution_count": null,
   "id": "5a020459",
   "metadata": {},
   "outputs": [],
   "source": [
    "# preço mínimo de cada \"classe de pontos\"\n",
    "df.groupby(\"points\").price.min()"
   ]
  },
  {
   "cell_type": "code",
   "execution_count": null,
   "id": "30415bc7",
   "metadata": {},
   "outputs": [],
   "source": [
    "# apply normal depende do axis (1 ou 0, linha ou coluna)\n",
    "# apply com groupby recebe sub dataframes\n",
    "\n",
    "# agrupando por 'winery'\n",
    "# cada grupo é composto de sub DataFrames\n",
    "# para cada grupo, aplicar a função\n",
    "# recebo o sub DataFrame e retorno o primeiro elemento da Series que representa os 'title's' (de cada grupo)\n",
    "# 'winery' aqui é o índice dos valores ('title')\n",
    "df.groupby(\"winery\").apply(lambda sub_df: sub_df.title.iloc[0])"
   ]
  },
  {
   "cell_type": "code",
   "execution_count": null,
   "id": "0524c8a6",
   "metadata": {},
   "outputs": [],
   "source": [
    "# melhor vinho por país e província\n",
    "\n",
    "# agrupando por 2 colunas\n",
    "# cada grupo são sub DataFrames\n",
    "# em cada grupo eu aplico a função\n",
    "# função recebe o sub DataFrame e retorna o mesmo filtrado pelo índice da linha que possui o valor máximo de pontos\n",
    "# 'idxmax' é índice do valor máximo\n",
    "# índice múltiplo!\n",
    "df.groupby([\"country\", \"province\"]).apply(lambda sub_df: sub_df.loc[sub_df.points.idxmax()])"
   ]
  },
  {
   "cell_type": "code",
   "execution_count": null,
   "id": "795849ad",
   "metadata": {},
   "outputs": [],
   "source": [
    "# usando o preço para calcular 3 medidas diferentes\n",
    "df.groupby(\"country\").price.agg([len, min, max])"
   ]
  },
  {
   "cell_type": "markdown",
   "id": "a279886a",
   "metadata": {},
   "source": [
    "#### Múltiplos índices"
   ]
  },
  {
   "cell_type": "code",
   "execution_count": 13,
   "id": "dd439140",
   "metadata": {},
   "outputs": [],
   "source": [
    "# Dependendo da operação executada com o group by, o resultado pode gerar múltiplos índices\n",
    "# Múltiplos índices possuem níveis diferentes\n",
    "\n",
    "# agrupando por 2 colunas\n",
    "# selecionando a coluna description desse grupo e aplicando função de agregação\n",
    "# o resultado será uma Serie com 2 índices, além da medida calculada\n",
    "multi_index_df = df.groupby([\"country\", \"province\"]).description.agg([len])"
   ]
  },
  {
   "cell_type": "code",
   "execution_count": null,
   "id": "6b72f9ae",
   "metadata": {},
   "outputs": [],
   "source": [
    "# objeto MultiIndex\n",
    "type(multi_index_df.index)"
   ]
  },
  {
   "cell_type": "code",
   "execution_count": null,
   "id": "553c8151",
   "metadata": {},
   "outputs": [],
   "source": [
    "# transforma o índice múltiplo em colunas normais\n",
    "# é o método mais últil para trabalhar com índices múltiplos ^^'\n",
    "multi_index_df.reset_index()"
   ]
  },
  {
   "cell_type": "markdown",
   "id": "c104746c",
   "metadata": {},
   "source": [
    "#### Ordenação"
   ]
  },
  {
   "cell_type": "code",
   "execution_count": null,
   "id": "fd3fb1d6",
   "metadata": {},
   "outputs": [],
   "source": [
    "new_df = multi_index_df.reset_index()\n",
    "new_df.sort_values(by='len', ascending=False) # ASC é default"
   ]
  },
  {
   "cell_type": "code",
   "execution_count": null,
   "id": "97215c56",
   "metadata": {},
   "outputs": [],
   "source": [
    "# ordenação por índice\n",
    "new_df.sort_index()"
   ]
  },
  {
   "cell_type": "code",
   "execution_count": 21,
   "id": "9722c2a2",
   "metadata": {},
   "outputs": [
    {
     "data": {
      "text/html": [
       "<div>\n",
       "<style scoped>\n",
       "    .dataframe tbody tr th:only-of-type {\n",
       "        vertical-align: middle;\n",
       "    }\n",
       "\n",
       "    .dataframe tbody tr th {\n",
       "        vertical-align: top;\n",
       "    }\n",
       "\n",
       "    .dataframe thead th {\n",
       "        text-align: right;\n",
       "    }\n",
       "</style>\n",
       "<table border=\"1\" class=\"dataframe\">\n",
       "  <thead>\n",
       "    <tr style=\"text-align: right;\">\n",
       "      <th></th>\n",
       "      <th>country</th>\n",
       "      <th>province</th>\n",
       "      <th>len</th>\n",
       "    </tr>\n",
       "  </thead>\n",
       "  <tbody>\n",
       "    <tr>\n",
       "      <th>1</th>\n",
       "      <td>Argentina</td>\n",
       "      <td>Other</td>\n",
       "      <td>536</td>\n",
       "    </tr>\n",
       "    <tr>\n",
       "      <th>0</th>\n",
       "      <td>Argentina</td>\n",
       "      <td>Mendoza Province</td>\n",
       "      <td>3264</td>\n",
       "    </tr>\n",
       "    <tr>\n",
       "      <th>2</th>\n",
       "      <td>Armenia</td>\n",
       "      <td>Armenia</td>\n",
       "      <td>2</td>\n",
       "    </tr>\n",
       "    <tr>\n",
       "      <th>6</th>\n",
       "      <td>Australia</td>\n",
       "      <td>Tasmania</td>\n",
       "      <td>42</td>\n",
       "    </tr>\n",
       "    <tr>\n",
       "      <th>4</th>\n",
       "      <td>Australia</td>\n",
       "      <td>New South Wales</td>\n",
       "      <td>85</td>\n",
       "    </tr>\n",
       "    <tr>\n",
       "      <th>...</th>\n",
       "      <td>...</td>\n",
       "      <td>...</td>\n",
       "      <td>...</td>\n",
       "    </tr>\n",
       "    <tr>\n",
       "      <th>421</th>\n",
       "      <td>Uruguay</td>\n",
       "      <td>Montevideo</td>\n",
       "      <td>11</td>\n",
       "    </tr>\n",
       "    <tr>\n",
       "      <th>422</th>\n",
       "      <td>Uruguay</td>\n",
       "      <td>Progreso</td>\n",
       "      <td>11</td>\n",
       "    </tr>\n",
       "    <tr>\n",
       "      <th>420</th>\n",
       "      <td>Uruguay</td>\n",
       "      <td>Juanico</td>\n",
       "      <td>12</td>\n",
       "    </tr>\n",
       "    <tr>\n",
       "      <th>424</th>\n",
       "      <td>Uruguay</td>\n",
       "      <td>Uruguay</td>\n",
       "      <td>24</td>\n",
       "    </tr>\n",
       "    <tr>\n",
       "      <th>419</th>\n",
       "      <td>Uruguay</td>\n",
       "      <td>Canelones</td>\n",
       "      <td>43</td>\n",
       "    </tr>\n",
       "  </tbody>\n",
       "</table>\n",
       "<p>425 rows × 3 columns</p>\n",
       "</div>"
      ],
      "text/plain": [
       "       country          province   len\n",
       "1    Argentina             Other   536\n",
       "0    Argentina  Mendoza Province  3264\n",
       "2      Armenia           Armenia     2\n",
       "6    Australia          Tasmania    42\n",
       "4    Australia   New South Wales    85\n",
       "..         ...               ...   ...\n",
       "421    Uruguay        Montevideo    11\n",
       "422    Uruguay          Progreso    11\n",
       "420    Uruguay           Juanico    12\n",
       "424    Uruguay           Uruguay    24\n",
       "419    Uruguay         Canelones    43\n",
       "\n",
       "[425 rows x 3 columns]"
      ]
     },
     "execution_count": 21,
     "metadata": {},
     "output_type": "execute_result"
    }
   ],
   "source": [
    "# ordenação por várias colunas\n",
    "new_df.sort_values(by=[\"country\", \"len\"])"
   ]
  }
 ],
 "metadata": {
  "kernelspec": {
   "display_name": "Python 3",
   "language": "python",
   "name": "python3"
  },
  "language_info": {
   "codemirror_mode": {
    "name": "ipython",
    "version": 3
   },
   "file_extension": ".py",
   "mimetype": "text/x-python",
   "name": "python",
   "nbconvert_exporter": "python",
   "pygments_lexer": "ipython3",
   "version": "3.10.12"
  }
 },
 "nbformat": 4,
 "nbformat_minor": 5
}
