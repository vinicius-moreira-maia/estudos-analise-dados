{
 "cells": [
  {
   "cell_type": "code",
   "execution_count": 1,
   "id": "ea415a23",
   "metadata": {},
   "outputs": [],
   "source": [
    "import pandas as pd"
   ]
  },
  {
   "cell_type": "code",
   "execution_count": null,
   "id": "32b135b2",
   "metadata": {},
   "outputs": [],
   "source": [
    "df = pd.read_csv(\"wine_data.csv\", index_col=0)\n",
    "df"
   ]
  },
  {
   "cell_type": "markdown",
   "id": "aa6d7351",
   "metadata": {},
   "source": [
    "#### Funções de sumarização"
   ]
  },
  {
   "cell_type": "code",
   "execution_count": null,
   "id": "deb73af3",
   "metadata": {},
   "outputs": [],
   "source": [
    "# O 'describe' muda conforme o tipo de dado fornecido\n",
    "# aqui é para um tipo numérico\n",
    "# É apenas um sumário genérico dos dados, com algumas medidas estatísticas básicas\n",
    "df.points.describe()"
   ]
  },
  {
   "cell_type": "code",
   "execution_count": null,
   "id": "a96a1481",
   "metadata": {},
   "outputs": [],
   "source": [
    "# string\n",
    "df.taster_name.describe()"
   ]
  },
  {
   "cell_type": "code",
   "execution_count": null,
   "id": "088cd381",
   "metadata": {},
   "outputs": [],
   "source": [
    "# algumas medidas\n",
    "# df.points.mean()\n",
    "\n",
    "# retorna um array numpy\n",
    "# df.taster_name.unique()\n",
    "\n",
    "# valores únicos + frequência absoluta\n",
    "# df.taster_name.value_counts()"
   ]
  },
  {
   "cell_type": "markdown",
   "id": "f9eca80a",
   "metadata": {},
   "source": [
    "#### Maps\n",
    "\n",
    "Funções que pegam um conjunto de valores e mapeiam para outro conjunto de valores."
   ]
  },
  {
   "cell_type": "code",
   "execution_count": null,
   "id": "945078df",
   "metadata": {},
   "outputs": [],
   "source": [
    "# Maps permitem que dados sejam transformados um valor a cada vez em um DataFrame ou Series\n",
    "\n",
    "# map\n",
    "# isso se chama 'remean' e significa recentralizar em torno da média\n",
    "# o novo conjunto de dados terá média 0\n",
    "\n",
    "media_pontos = df.points.mean()\n",
    "\n",
    "# passando função lambda/anônima\n",
    "# cada valor da coluna 'points' será reduzido pelo valor da média\n",
    "# 'map' retorna Series\n",
    "df.points.map(lambda p: p - media_pontos)"
   ]
  },
  {
   "cell_type": "code",
   "execution_count": null,
   "id": "8f5c3c1a",
   "metadata": {},
   "outputs": [],
   "source": [
    "# apply\n",
    "# É para a transformação do DataFrame como um todo, aplicando uma função para cada linha\n",
    "\n",
    "def menos_a_media(linha):\n",
    "    linha.points = linha.points - media_pontos\n",
    "    return linha\n",
    "\n",
    "# passando a função como um objeto função\n",
    "# o que a função \"vai recebendo\" são as linhas do DataFrame\n",
    "# 'columns' é para passar as linhas (axis=0)\n",
    "# 'index' seria para passar as colunas (axis=1)\n",
    "df.apply(menos_a_media, axis=\"columns\")\n",
    "\n",
    "# map e apply NÃO alteram o DataFrame"
   ]
  },
  {
   "cell_type": "code",
   "execution_count": null,
   "id": "bdcafab1",
   "metadata": {},
   "outputs": [],
   "source": [
    "# forma mais simples de fazer 'remean'\n",
    "media_pontos = df.points.mean()\n",
    "\n",
    "# O pandas entende que eu quero subtrair um único valor de cada valor da Series\n",
    "df.points - media_pontos"
   ]
  },
  {
   "cell_type": "code",
   "execution_count": null,
   "id": "7240e3ff",
   "metadata": {},
   "outputs": [],
   "source": [
    "# Pandas também entende o que fazer com operações entre Series de mesmo tamanho\n",
    "df.country + \" - \" + df.region_1\n",
    "\n",
    "# Essas duas operações anteriores são exemplos de operações 'built-in', que são bem mais performáticas que 'map' e 'apply'. Mas as 2 funções são bem mais flexíveis."
   ]
  }
 ],
 "metadata": {
  "kernelspec": {
   "display_name": "Python 3",
   "language": "python",
   "name": "python3"
  },
  "language_info": {
   "codemirror_mode": {
    "name": "ipython",
    "version": 3
   },
   "file_extension": ".py",
   "mimetype": "text/x-python",
   "name": "python",
   "nbconvert_exporter": "python",
   "pygments_lexer": "ipython3",
   "version": "3.10.12"
  }
 },
 "nbformat": 4,
 "nbformat_minor": 5
}
