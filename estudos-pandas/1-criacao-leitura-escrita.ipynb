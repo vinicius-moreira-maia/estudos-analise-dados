{
 "cells": [
  {
   "cell_type": "code",
   "execution_count": 1,
   "id": "9cd0763e",
   "metadata": {},
   "outputs": [],
   "source": [
    "import pandas as pd"
   ]
  },
  {
   "cell_type": "markdown",
   "id": "e9f55d59",
   "metadata": {},
   "source": [
    "#### Criando dados"
   ]
  },
  {
   "cell_type": "code",
   "execution_count": null,
   "id": "dc893ce3",
   "metadata": {},
   "outputs": [
    {
     "data": {
      "text/html": [
       "<div>\n",
       "<style scoped>\n",
       "    .dataframe tbody tr th:only-of-type {\n",
       "        vertical-align: middle;\n",
       "    }\n",
       "\n",
       "    .dataframe tbody tr th {\n",
       "        vertical-align: top;\n",
       "    }\n",
       "\n",
       "    .dataframe thead th {\n",
       "        text-align: right;\n",
       "    }\n",
       "</style>\n",
       "<table border=\"1\" class=\"dataframe\">\n",
       "  <thead>\n",
       "    <tr style=\"text-align: right;\">\n",
       "      <th></th>\n",
       "      <th>Bob</th>\n",
       "      <th>Sue</th>\n",
       "    </tr>\n",
       "  </thead>\n",
       "  <tbody>\n",
       "    <tr>\n",
       "      <th>Product A</th>\n",
       "      <td>I liked it.</td>\n",
       "      <td>Pretty good.</td>\n",
       "    </tr>\n",
       "    <tr>\n",
       "      <th>Product B</th>\n",
       "      <td>It was awful.</td>\n",
       "      <td>Bland.</td>\n",
       "    </tr>\n",
       "  </tbody>\n",
       "</table>\n",
       "</div>"
      ],
      "text/plain": [
       "                     Bob           Sue\n",
       "Product A    I liked it.  Pretty good.\n",
       "Product B  It was awful.        Bland."
      ]
     },
     "execution_count": 2,
     "metadata": {},
     "output_type": "execute_result"
    }
   ],
   "source": [
    "# Há 2 objetos no pandas\n",
    "# Dataframes e Series\n",
    "\n",
    "# A forma padrão de criar dataframes é através de dicionários, com listas como os valores das chaves\n",
    "# 'index' é o \"nome\" dado às linhas (o padrão é usar inteiros)\n",
    "pd.DataFrame({'Bob': ['I liked it.', 'It was awful.'], \n",
    "              'Sue': ['Pretty good.', 'Bland.']},\n",
    "             index=['Product A', 'Product B'])"
   ]
  },
  {
   "cell_type": "code",
   "execution_count": null,
   "id": "e850f3e7",
   "metadata": {},
   "outputs": [
    {
     "data": {
      "text/plain": [
       "0    1\n",
       "1    2\n",
       "2    3\n",
       "3    4\n",
       "4    5\n",
       "dtype: int64"
      ]
     },
     "execution_count": 3,
     "metadata": {},
     "output_type": "execute_result"
    }
   ],
   "source": [
    "# Uma serie é uma lista de valores\n",
    "# Em essência, é a coluna de um dataframe\n",
    "# Entender um Dataframe como um conjunto de Series\n",
    "\n",
    "# pode ser construída com uma lista\n",
    "# pd.Series([1, 2, 3, 4, 5])\n",
    "\n",
    "# como coluna de um dataframe, posso atribuir valores ao índice\n",
    "# mas não há nome de coluna, apenas um nome geral definido pelo parâmetro 'name'\n",
    "pd.Series([30, 35, 40], index=['2015 Sales', '2016 Sales', '2017 Sales'], name='Product A')"
   ]
  },
  {
   "cell_type": "markdown",
   "id": "8801ffd1",
   "metadata": {},
   "source": [
    "#### Lendo arquivos"
   ]
  },
  {
   "cell_type": "code",
   "execution_count": null,
   "id": "73681201",
   "metadata": {},
   "outputs": [
    {
     "data": {
      "text/plain": [
       "(129971, 14)"
      ]
     },
     "execution_count": 4,
     "metadata": {},
     "output_type": "execute_result"
    }
   ],
   "source": [
    "# lendo csv\n",
    "# há uns 30 parâmetros opcionais para read_csv() ...\n",
    "# 'index_col' usa a primeira coluna como índice\n",
    "df = pd.read_csv(\"wine_data.csv\", index_col=0)\n",
    "\n",
    "# mostra a quantidade de linhas e colunas do DataFrame\n",
    "df.shape"
   ]
  },
  {
   "cell_type": "code",
   "execution_count": null,
   "id": "a95ebef4",
   "metadata": {},
   "outputs": [],
   "source": [
    "# primeiras 5 linhas (default)\n",
    "df.head()"
   ]
  },
  {
   "cell_type": "markdown",
   "id": "d1952aed",
   "metadata": {},
   "source": [
    "#### Escrevendo arquivos"
   ]
  },
  {
   "cell_type": "code",
   "execution_count": 8,
   "id": "904968d1",
   "metadata": {},
   "outputs": [],
   "source": [
    "# escrevendo...\n",
    "animals = pd.DataFrame({'Cows': [12, 20], 'Goats': [22, 19]}, index=['Year 1', 'Year 2'])\n",
    "animals.to_csv(\"/home/vmm/estudos-analise-de-dados/estudos-pandas/animals.csv\")"
   ]
  }
 ],
 "metadata": {
  "kernelspec": {
   "display_name": "Python 3",
   "language": "python",
   "name": "python3"
  },
  "language_info": {
   "codemirror_mode": {
    "name": "ipython",
    "version": 3
   },
   "file_extension": ".py",
   "mimetype": "text/x-python",
   "name": "python",
   "nbconvert_exporter": "python",
   "pygments_lexer": "ipython3",
   "version": "3.10.12"
  }
 },
 "nbformat": 4,
 "nbformat_minor": 5
}
