{
 "cells": [
  {
   "cell_type": "code",
   "execution_count": 1,
   "id": "5a786237",
   "metadata": {},
   "outputs": [],
   "source": [
    "import pandas as pd"
   ]
  },
  {
   "cell_type": "code",
   "execution_count": 2,
   "id": "8fef43d0",
   "metadata": {},
   "outputs": [],
   "source": [
    "df = pd.read_csv(\"wine_data.csv\", index_col=0)"
   ]
  },
  {
   "cell_type": "markdown",
   "id": "893c9654",
   "metadata": {},
   "source": [
    "#### Dtype\n",
    "\n",
    "Tipos de dados em Series ou DataFrames são chamados de dtype's"
   ]
  },
  {
   "cell_type": "code",
   "execution_count": null,
   "id": "33314999",
   "metadata": {},
   "outputs": [],
   "source": [
    "# df.price.dtype\n",
    "df.dtypes\n",
    "\n",
    "# colunas de textos são do tipo 'object'"
   ]
  },
  {
   "cell_type": "code",
   "execution_count": 6,
   "id": "d8eeec07",
   "metadata": {},
   "outputs": [
    {
     "data": {
      "text/plain": [
       "dtype('int64')"
      ]
     },
     "execution_count": 6,
     "metadata": {},
     "output_type": "execute_result"
    }
   ],
   "source": [
    "# convertendo tipos\n",
    "# df.points.astype(\"float64\")\n",
    "\n",
    "# índices também possuem tipos\n",
    "df.index.dtype"
   ]
  },
  {
   "cell_type": "markdown",
   "id": "b376a4cc",
   "metadata": {},
   "source": [
    "#### Dados ausentes"
   ]
  },
  {
   "cell_type": "code",
   "execution_count": null,
   "id": "dd92cb62",
   "metadata": {},
   "outputs": [],
   "source": [
    "# Nulos no pandas são NaN\n",
    "\n",
    "# linhas do DataFrame onde country for nulo/NaN\n",
    "df[pd.isnull(df.country)]"
   ]
  },
  {
   "cell_type": "code",
   "execution_count": null,
   "id": "cb088483",
   "metadata": {},
   "outputs": [],
   "source": [
    "# preenchendo valores ausentes com 'fillna'\n",
    "df.region_2.fillna(\"Unknown\")"
   ]
  },
  {
   "cell_type": "code",
   "execution_count": null,
   "id": "19b78e77",
   "metadata": {},
   "outputs": [],
   "source": [
    "# substituindo valores não nulos\n",
    "df.taster_twitter_handle.replace(\"@kerinokeefe\", \"@kerino\")"
   ]
  }
 ],
 "metadata": {
  "kernelspec": {
   "display_name": "Python 3",
   "language": "python",
   "name": "python3"
  },
  "language_info": {
   "codemirror_mode": {
    "name": "ipython",
    "version": 3
   },
   "file_extension": ".py",
   "mimetype": "text/x-python",
   "name": "python",
   "nbconvert_exporter": "python",
   "pygments_lexer": "ipython3",
   "version": "3.10.12"
  }
 },
 "nbformat": 4,
 "nbformat_minor": 5
}
